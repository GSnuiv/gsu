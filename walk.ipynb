{
 "metadata": {
  "name": "",
  "signature": "sha256:b7e142d78a15953fef8ae46cd42ef9967cfbadbdb1c5d4fd4ee976a455ecc160"
 },
 "nbformat": 3,
 "nbformat_minor": 0,
 "worksheets": [
  {
   "cells": [
    {
     "cell_type": "code",
     "collapsed": false,
     "input": [
      "%run ipproblem"
     ],
     "language": "python",
     "metadata": {},
     "outputs": [],
     "prompt_number": 105
    },
    {
     "cell_type": "code",
     "collapsed": false,
     "input": [
      "\n",
      "c=vector(ZZ,[4,2,4,1,2,4,1,1,1,1,4,3])\n",
      "A=[[3,3,1,3,3,3,0,2,2,1,2,2],\n",
      "    [1,1,1,1,3,0,1,2,0,1,3,3],\n",
      "    [0,1,1,2,2,1,1,3,3,1,0,3],\n",
      "    [3,2,3,1,1,1,0,3,2,1,2,0]]\n",
      "b=[15,13,7,12]\n",
      "u=[1,1,1,1,1,1,1,1,1,1,1,1]\n",
      "P=IPProblem(c,A,b,u)\n",
      "set_verbose(0)\n",
      "\n"
     ],
     "language": "python",
     "metadata": {},
     "outputs": [],
     "prompt_number": 106
    },
    {
     "cell_type": "code",
     "collapsed": false,
     "input": [
      "G=P.test_set_non_reducibles()"
     ],
     "language": "python",
     "metadata": {},
     "outputs": [],
     "prompt_number": 107
    },
    {
     "cell_type": "code",
     "collapsed": false,
     "input": [
      "set_verbose(0)\n",
      "L=P.walk_to_best(vector(ZZ, 12*[0]), path=True)"
     ],
     "language": "python",
     "metadata": {},
     "outputs": [],
     "prompt_number": 111
    },
    {
     "cell_type": "code",
     "collapsed": false,
     "input": [
      "L"
     ],
     "language": "python",
     "metadata": {},
     "outputs": [
      {
       "metadata": {},
       "output_type": "pyout",
       "prompt_number": 112,
       "text": [
        "[(0, 0, 0, 0, 0, 0, 0, 0, 0, 0, 0, 0),\n",
        " (1, 0, 0, 0, 0, 0, 0, 0, 0, 0, 0, 0),\n",
        " (1, 0, 1, 0, 0, 0, 0, 0, 0, 0, 0, 0),\n",
        " (1, 0, 1, 0, 0, 1, 0, 0, 0, 0, 0, 0),\n",
        " (1, 0, 1, 0, 0, 1, 0, 0, 0, 0, 1, 0),\n",
        " (1, 0, 1, 0, 0, 1, 0, 0, 0, 0, 1, 1),\n",
        " (1, 1, 1, 0, 0, 1, 0, 0, 0, 0, 1, 1),\n",
        " (1, 1, 1, 0, 0, 1, 1, 0, 0, 0, 1, 1)]"
       ]
      }
     ],
     "prompt_number": 112
    },
    {
     "cell_type": "code",
     "collapsed": false,
     "input": [
      "[c*v for v in L]"
     ],
     "language": "python",
     "metadata": {},
     "outputs": [
      {
       "metadata": {},
       "output_type": "pyout",
       "prompt_number": 113,
       "text": [
        "[0, 4, 8, 12, 16, 19, 21, 22]"
       ]
      }
     ],
     "prompt_number": 113
    },
    {
     "cell_type": "code",
     "collapsed": false,
     "input": [],
     "language": "python",
     "metadata": {},
     "outputs": [],
     "prompt_number": 113
    },
    {
     "cell_type": "code",
     "collapsed": false,
     "input": [],
     "language": "python",
     "metadata": {},
     "outputs": []
    }
   ],
   "metadata": {}
  }
 ]
}