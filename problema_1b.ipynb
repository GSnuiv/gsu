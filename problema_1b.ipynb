{
 "metadata": {
  "name": "",
  "signature": "sha256:0aaa10cffc9ae9f9651a957482fa8267e78dc329502acb33a9aafe48571a03b7"
 },
 "nbformat": 3,
 "nbformat_minor": 0,
 "worksheets": [
  {
   "cells": [
    {
     "cell_type": "code",
     "collapsed": false,
     "input": [
      "%run ipproblem"
     ],
     "language": "python",
     "metadata": {},
     "outputs": [],
     "prompt_number": 1
    },
    {
     "cell_type": "code",
     "collapsed": false,
     "input": [
      "c=(4, 1, 1, 3, 4, 2, 2, 2, 2, 3, 1, 3)\n",
      "A=[[1, 0, 0, 3, 1, 3, 3, 2, 1, 1, 3, 3],\n",
      "   [0, 3, 2, 0, 3, 2, 2, 2, 3, 0, 1, 2],\n",
      "   [0, 1, 2, 2, 1, 2, 0, 1, 2, 0, 3, 3],\n",
      "   [3, 0, 1, 2, 0, 0, 1, 1, 0, 1, 3, 1]]\n",
      "b=(17, 2, 13, 9)\n",
      "u=(1, 1, 1, 1, 1, 1, 1, 1, 1, 1, 1, 1)\n",
      "\n"
     ],
     "language": "python",
     "metadata": {},
     "outputs": [],
     "prompt_number": 2
    },
    {
     "cell_type": "code",
     "collapsed": false,
     "input": [],
     "language": "python",
     "metadata": {},
     "outputs": [],
     "prompt_number": 2
    },
    {
     "cell_type": "code",
     "collapsed": false,
     "input": [
      "set_verbose(0)\n",
      "R=IPProblem(c,A,b,u)"
     ],
     "language": "python",
     "metadata": {},
     "outputs": [],
     "prompt_number": 3
    },
    {
     "cell_type": "code",
     "collapsed": false,
     "input": [
      "G1=R.test_set_non_reducibles()"
     ],
     "language": "python",
     "metadata": {},
     "outputs": [],
     "prompt_number": 25
    },
    {
     "cell_type": "code",
     "collapsed": false,
     "input": [
      "len(G1)"
     ],
     "language": "python",
     "metadata": {},
     "outputs": [
      {
       "metadata": {},
       "output_type": "pyout",
       "prompt_number": 26,
       "text": [
        "82"
       ]
      }
     ],
     "prompt_number": 26
    },
    {
     "cell_type": "code",
     "collapsed": false,
     "input": [
      "def check_set(R,G1):\n",
      "    for v in G1:\n",
      "        vp,vm=R.pm_split(v)\n",
      "        print (v,R.order(v, vector(ZZ,len(v)*[0]))>0, R.is_feasible(vp), R.is_feasible(vm))"
     ],
     "language": "python",
     "metadata": {},
     "outputs": [],
     "prompt_number": 27
    },
    {
     "cell_type": "code",
     "collapsed": false,
     "input": [
      "G=R.minimal_test_set()"
     ],
     "language": "python",
     "metadata": {},
     "outputs": [],
     "prompt_number": 28
    },
    {
     "cell_type": "code",
     "collapsed": false,
     "input": [
      "len(G)"
     ],
     "language": "python",
     "metadata": {},
     "outputs": [
      {
       "metadata": {},
       "output_type": "pyout",
       "prompt_number": 29,
       "text": [
        "66"
       ]
      }
     ],
     "prompt_number": 29
    },
    {
     "cell_type": "code",
     "collapsed": false,
     "input": [
      "#check_set(R,G)"
     ],
     "language": "python",
     "metadata": {},
     "outputs": [],
     "prompt_number": 9
    },
    {
     "cell_type": "code",
     "collapsed": false,
     "input": [
      "H=R.inter_reduce(G1)\n",
      "len(H)"
     ],
     "language": "python",
     "metadata": {},
     "outputs": [
      {
       "metadata": {},
       "output_type": "pyout",
       "prompt_number": 10,
       "text": [
        "61"
       ]
      }
     ],
     "prompt_number": 10
    },
    {
     "cell_type": "code",
     "collapsed": false,
     "input": [
      "Z=R.inter_reduce(G)\n",
      "len(Z)"
     ],
     "language": "python",
     "metadata": {},
     "outputs": [
      {
       "metadata": {},
       "output_type": "pyout",
       "prompt_number": 11,
       "text": [
        "66"
       ]
      }
     ],
     "prompt_number": 11
    },
    {
     "cell_type": "code",
     "collapsed": false,
     "input": [
      "Z==G"
     ],
     "language": "python",
     "metadata": {},
     "outputs": [
      {
       "metadata": {},
       "output_type": "pyout",
       "prompt_number": 12,
       "text": [
        "True"
       ]
      }
     ],
     "prompt_number": 12
    },
    {
     "cell_type": "code",
     "collapsed": false,
     "input": [
      "for v in H:\n",
      "    if not v in G:\n",
      "        print v\n",
      "        "
     ],
     "language": "python",
     "metadata": {},
     "outputs": [],
     "prompt_number": 13
    },
    {
     "cell_type": "code",
     "collapsed": false,
     "input": [
      "l=[]\n",
      "for v in G:\n",
      "    if not v in H:\n",
      "        l.append(v)\n",
      "print l"
     ],
     "language": "python",
     "metadata": {},
     "outputs": [
      {
       "output_type": "stream",
       "stream": "stdout",
       "text": [
        "[(1, 0, 0, -1, 0, 1, 0, 0, 0, -1, 0, 0), (1, 0, 0, -1, 0, 1, 0, 0, 0, 0, 0, -1), (0, 0, -1, -1, 0, 0, 0, 1, 0, 1, 0, 0), (1, 0, 0, 0, 0, 1, 0, 0, 0, -1, 0, -1), (0, 0, 0, -1, 0, -1, 0, 0, 0, 1, 0, 1)]\n"
       ]
      }
     ],
     "prompt_number": 14
    },
    {
     "cell_type": "code",
     "collapsed": false,
     "input": [
      "check_set(R,l)"
     ],
     "language": "python",
     "metadata": {},
     "outputs": [
      {
       "output_type": "stream",
       "stream": "stdout",
       "text": [
        "((1, 0, 0, -1, 0, 1, 0, 0, 0, -1, 0, 0), True, True, True)\n",
        "((1, 0, 0, -1, 0, 1, 0, 0, 0, 0, 0, -1), True, True, True)\n",
        "((0, 0, -1, -1, 0, 0, 0, 1, 0, 1, 0, 0), True, True, True)\n",
        "((1, 0, 0, 0, 0, 1, 0, 0, 0, -1, 0, -1), True, True, True)\n",
        "((0, 0, 0, -1, 0, -1, 0, 0, 0, 1, 0, 1), True, True, True)\n"
       ]
      }
     ],
     "prompt_number": 15
    },
    {
     "cell_type": "code",
     "collapsed": false,
     "input": [
      "R.get_feasible()"
     ],
     "language": "python",
     "metadata": {},
     "outputs": [
      {
       "metadata": {},
       "output_type": "pyout",
       "prompt_number": 16,
       "text": [
        "(1, 0, 0, 0, 0, 0, 0, 0, 0, 0, 0, 0)"
       ]
      }
     ],
     "prompt_number": 16
    },
    {
     "cell_type": "code",
     "collapsed": false,
     "input": [
      "v=R.minimal[0]"
     ],
     "language": "python",
     "metadata": {},
     "outputs": [],
     "prompt_number": 17
    },
    {
     "cell_type": "code",
     "collapsed": false,
     "input": [
      "R.walk_to_best(v, path=True)"
     ],
     "language": "python",
     "metadata": {},
     "outputs": [
      {
       "metadata": {},
       "output_type": "pyout",
       "prompt_number": 18,
       "text": [
        "[(1, 0, 0, 0, 0, 0, 0, 0, 0, 0, 0, 0),\n",
        " (1, 0, 0, 1, 0, 0, 0, 0, 0, 0, 0, 0),\n",
        " (1, 0, 0, 1, 0, 0, 0, 0, 0, 1, 0, 0),\n",
        " (1, 0, 0, 1, 0, 0, 0, 0, 0, 1, 0, 1)]"
       ]
      }
     ],
     "prompt_number": 18
    },
    {
     "cell_type": "code",
     "collapsed": false,
     "input": [
      "[R.cost(v) for v in _]"
     ],
     "language": "python",
     "metadata": {},
     "outputs": [
      {
       "metadata": {},
       "output_type": "pyout",
       "prompt_number": 19,
       "text": [
        "[4, 7, 10, 13]"
       ]
      }
     ],
     "prompt_number": 19
    },
    {
     "cell_type": "code",
     "collapsed": false,
     "input": [
      "set_verbose(1)\n",
      "#R.test_set()"
     ],
     "language": "python",
     "metadata": {},
     "outputs": [],
     "prompt_number": 20
    },
    {
     "cell_type": "code",
     "collapsed": false,
     "input": [
      "set_verbose(0)"
     ],
     "language": "python",
     "metadata": {},
     "outputs": [],
     "prompt_number": 21
    },
    {
     "cell_type": "code",
     "collapsed": false,
     "input": [],
     "language": "python",
     "metadata": {},
     "outputs": [],
     "prompt_number": 21
    },
    {
     "cell_type": "code",
     "collapsed": false,
     "input": [],
     "language": "python",
     "metadata": {},
     "outputs": []
    }
   ],
   "metadata": {}
  }
 ]
}