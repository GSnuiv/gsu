{
 "metadata": {
  "name": "",
  "signature": "sha256:0169ad1714ff3b0f3b406d2fd30821217f2e3e4460a4a70312ed34de30593da9"
 },
 "nbformat": 3,
 "nbformat_minor": 0,
 "worksheets": [
  {
   "cells": [
    {
     "cell_type": "code",
     "collapsed": false,
     "input": [
      "%run ipproblem"
     ],
     "language": "python",
     "metadata": {},
     "outputs": [],
     "prompt_number": 1
    },
    {
     "cell_type": "code",
     "collapsed": false,
     "input": [
      "filas=4\n",
      "columnas=12\n",
      "A=random_matrix(ZZ,filas,columnas, x=0, y=4)\n",
      "c=random_vector(ZZ,columnas, x=1, y=5)\n",
      "b=random_vector(ZZ,filas, x=1, y=20)\n",
      "u=vector(ZZ, columnas*[1])\n",
      "R=IPProblem(c,A,b,u)\n",
      "print R"
     ],
     "language": "python",
     "metadata": {},
     "outputs": [
      {
       "output_type": "stream",
       "stream": "stdout",
       "text": [
        "Integer programming problem\n",
        "    max\\{c.x : A x <= b,  0<=x<=u\\}\n",
        "with\n",
        "c=(4, 4, 4, 4, 1, 4, 2, 2, 1, 2, 4, 1),\n",
        "A=\n",
        "[0 3 3 0 3 2 2 0 0 0 0 0]\n",
        "[2 2 2 0 0 2 0 3 2 0 0 2]\n",
        "[1 3 0 1 2 0 0 0 3 3 1 1]\n",
        "[2 0 3 2 1 3 3 1 1 1 0 3],\n",
        "b=(2, 13, 19, 9),\n",
        "u=(1, 1, 1, 1, 1, 1, 1, 1, 1, 1, 1, 1).\n"
       ]
      }
     ],
     "prompt_number": 3
    },
    {
     "cell_type": "code",
     "collapsed": false,
     "input": [
      "save(R, \"interesting_problem.sobj\")"
     ],
     "language": "python",
     "metadata": {},
     "outputs": [],
     "prompt_number": 4
    },
    {
     "cell_type": "code",
     "collapsed": false,
     "input": [
      "R=0"
     ],
     "language": "python",
     "metadata": {},
     "outputs": [],
     "prompt_number": 5
    },
    {
     "cell_type": "code",
     "collapsed": false,
     "input": [
      "T=load(\"interesting_problem.sobj\")"
     ],
     "language": "python",
     "metadata": {},
     "outputs": [],
     "prompt_number": 7
    },
    {
     "cell_type": "code",
     "collapsed": false,
     "input": [
      "T"
     ],
     "language": "python",
     "metadata": {},
     "outputs": [
      {
       "metadata": {},
       "output_type": "pyout",
       "prompt_number": 8,
       "text": [
        "Integer programming problem\n",
        "    max\\{c.x : A x <= b,  0<=x<=u\\}\n",
        "with\n",
        "c=(4, 4, 4, 4, 1, 4, 2, 2, 1, 2, 4, 1),\n",
        "A=\n",
        "[0 3 3 0 3 2 2 0 0 0 0 0]\n",
        "[2 2 2 0 0 2 0 3 2 0 0 2]\n",
        "[1 3 0 1 2 0 0 0 3 3 1 1]\n",
        "[2 0 3 2 1 3 3 1 1 1 0 3],\n",
        "b=(2, 13, 19, 9),\n",
        "u=(1, 1, 1, 1, 1, 1, 1, 1, 1, 1, 1, 1)."
       ]
      }
     ],
     "prompt_number": 8
    },
    {
     "cell_type": "code",
     "collapsed": false,
     "input": [],
     "language": "python",
     "metadata": {},
     "outputs": [],
     "prompt_number": 9
    },
    {
     "cell_type": "code",
     "collapsed": false,
     "input": [],
     "language": "python",
     "metadata": {},
     "outputs": []
    }
   ],
   "metadata": {}
  }
 ]
}