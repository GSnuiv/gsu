{
 "metadata": {
  "name": "",
  "signature": "sha256:e673a099b7f8ba5b90a471ba4545020afdb45f97d029053f1320f0fc0abbb81f"
 },
 "nbformat": 3,
 "nbformat_minor": 0,
 "worksheets": [
  {
   "cells": [
    {
     "cell_type": "code",
     "collapsed": false,
     "input": [
      "%run ipproblem"
     ],
     "language": "python",
     "metadata": {},
     "outputs": [],
     "prompt_number": 90
    },
    {
     "cell_type": "code",
     "collapsed": false,
     "input": [
      "filas=3\n",
      "columnas=8\n",
      "A=random_matrix(ZZ,filas,columnas, x=0, y=4)\n",
      "c=random_vector(ZZ,columnas, x=1, y=5)\n",
      "b=random_vector(ZZ,filas, x=1, y=20)\n",
      "u=vector(ZZ, columnas*[1])\n",
      "c,A,b,u"
     ],
     "language": "python",
     "metadata": {},
     "outputs": [
      {
       "metadata": {},
       "output_type": "pyout",
       "prompt_number": 124,
       "text": [
        "(\n",
        "                          [2 2 1 1 3 0 3 2]              \n",
        "                          [0 3 2 2 0 3 1 0]              \n",
        "(1, 2, 2, 1, 4, 2, 4, 3), [1 2 1 1 2 1 0 1], (17, 19, 13),\n",
        "\n",
        "(1, 1, 1, 1, 1, 1, 1, 1)\n",
        ")"
       ]
      }
     ],
     "prompt_number": 124
    },
    {
     "cell_type": "code",
     "collapsed": false,
     "input": [
      "R=IPProblem(c,A,b,u)"
     ],
     "language": "python",
     "metadata": {},
     "outputs": [],
     "prompt_number": 125
    },
    {
     "cell_type": "code",
     "collapsed": false,
     "input": [
      "HH=R.test_set_non_reducibles()\n"
     ],
     "language": "python",
     "metadata": {},
     "outputs": [],
     "prompt_number": 126
    },
    {
     "cell_type": "code",
     "collapsed": false,
     "input": [
      "len(HH)"
     ],
     "language": "python",
     "metadata": {},
     "outputs": [
      {
       "metadata": {},
       "output_type": "pyout",
       "prompt_number": 127,
       "text": [
        "686"
       ]
      }
     ],
     "prompt_number": 127
    },
    {
     "cell_type": "code",
     "collapsed": false,
     "input": [
      "H=R.inter_reduce(HH)\n",
      "len(H)"
     ],
     "language": "python",
     "metadata": {},
     "outputs": [
      {
       "metadata": {},
       "output_type": "pyout",
       "prompt_number": 128,
       "text": [
        "100"
       ]
      }
     ],
     "prompt_number": 128
    },
    {
     "cell_type": "code",
     "collapsed": false,
     "input": [
      "G=R.minimal_test_set()"
     ],
     "language": "python",
     "metadata": {},
     "outputs": [],
     "prompt_number": 129
    },
    {
     "cell_type": "code",
     "collapsed": false,
     "input": [
      "(all(R.is_improvement(v) for v in G) and\n",
      "    all(R.is_improvement(v) for v in H) and \n",
      "    all(R.is_improvement(v) for v in HH) and\n",
      "    len(H)==len(G) and \n",
      "    all(v in G for v in H) and \n",
      "    all(v in H for v in G))"
     ],
     "language": "python",
     "metadata": {},
     "outputs": [
      {
       "metadata": {},
       "output_type": "pyout",
       "prompt_number": 130,
       "text": [
        "True"
       ]
      }
     ],
     "prompt_number": 130
    },
    {
     "cell_type": "code",
     "collapsed": false,
     "input": [
      "L=R.walk_to_best(R.get_feasible(), path=True)\n",
      "L"
     ],
     "language": "python",
     "metadata": {},
     "outputs": [
      {
       "metadata": {},
       "output_type": "pyout",
       "prompt_number": 131,
       "text": [
        "[(1, 0, 0, 0, 0, 0, 0, 0),\n",
        " (1, 0, 0, 0, 1, 0, 0, 0),\n",
        " (1, 0, 0, 0, 1, 0, 1, 0),\n",
        " (1, 0, 0, 0, 1, 0, 1, 1),\n",
        " (1, 1, 0, 0, 1, 0, 1, 1),\n",
        " (1, 1, 1, 0, 1, 0, 1, 1),\n",
        " (1, 1, 1, 0, 1, 1, 1, 1),\n",
        " (1, 1, 1, 1, 1, 1, 1, 1)]"
       ]
      }
     ],
     "prompt_number": 131
    },
    {
     "cell_type": "code",
     "collapsed": false,
     "input": [
      "[R.cost(v) for v in L]"
     ],
     "language": "python",
     "metadata": {},
     "outputs": [
      {
       "metadata": {},
       "output_type": "pyout",
       "prompt_number": 132,
       "text": [
        "[1, 5, 9, 12, 14, 16, 18, 19]"
       ]
      }
     ],
     "prompt_number": 132
    },
    {
     "cell_type": "code",
     "collapsed": false,
     "input": [
      "A*L[-1], b"
     ],
     "language": "python",
     "metadata": {},
     "outputs": [
      {
       "metadata": {},
       "output_type": "pyout",
       "prompt_number": 133,
       "text": [
        "((14, 11, 9), (17, 19, 13))"
       ]
      }
     ],
     "prompt_number": 133
    },
    {
     "cell_type": "code",
     "collapsed": false,
     "input": [],
     "language": "python",
     "metadata": {},
     "outputs": [],
     "prompt_number": 133
    },
    {
     "cell_type": "code",
     "collapsed": false,
     "input": [
      "filas=1\n",
      "columnas=8\n",
      "A=random_matrix(ZZ,filas,columnas, x=0, y=4)\n",
      "c=random_vector(ZZ,columnas, x=1, y=5)\n",
      "b=random_vector(ZZ,filas, x=1, y=20)\n",
      "u=vector(ZZ, columnas*[1])\n",
      "c,A,b,u\n",
      "P=IPProblem(c,A,b)"
     ],
     "language": "python",
     "metadata": {},
     "outputs": [],
     "prompt_number": 113
    },
    {
     "cell_type": "code",
     "collapsed": false,
     "input": [
      "print P"
     ],
     "language": "python",
     "metadata": {},
     "outputs": [
      {
       "output_type": "stream",
       "stream": "stdout",
       "text": [
        "Integer programming problem\n",
        "    max\\{c.x : A x <= b,  0<=x<=u\\}\n",
        "with\n",
        "c=(4, 2, 3, 2, 3, 3, 3, 4),\n",
        "A=\n",
        "[0 0 1 3 0 2 2 3],\n",
        "b=(12),\n",
        "u=(0, 0, 12, 4, 0, 6, 6, 4).\n"
       ]
      }
     ],
     "prompt_number": 134
    },
    {
     "cell_type": "code",
     "collapsed": false,
     "input": [
      "G=P.test_set_non_reducibles()"
     ],
     "language": "python",
     "metadata": {},
     "outputs": [],
     "prompt_number": 123
    },
    {
     "cell_type": "code",
     "collapsed": false,
     "input": [
      "P.minimal_test_set()"
     ],
     "language": "python",
     "metadata": {},
     "outputs": [
      {
       "metadata": {},
       "output_type": "pyout",
       "prompt_number": 115,
       "text": [
        "[(0, 0, 1, 0, 0, 0, 0, 0),\n",
        " (0, 0, 0, 1, 0, 0, 0, 0),\n",
        " (0, 0, 0, 0, 0, 1, 0, 0),\n",
        " (0, 0, 0, 0, 0, 0, 1, 0),\n",
        " (0, 0, 0, 0, 0, 0, 0, 1),\n",
        " (0, 0, 1, -1, 0, 0, 0, 0),\n",
        " (0, 0, 1, 0, 0, -1, 0, 0),\n",
        " (0, 0, 1, 0, 0, 0, -1, 0),\n",
        " (0, 0, -1, 0, 0, 0, 0, 1),\n",
        " (0, 0, 0, -1, 0, 1, 0, 0),\n",
        " (0, 0, 0, -1, 0, 0, 1, 0),\n",
        " (0, 0, 0, -1, 0, 0, 0, 1),\n",
        " (0, 0, 0, 0, 0, 1, -1, 0),\n",
        " (0, 0, 0, 0, 0, -1, 0, 1),\n",
        " (0, 0, 0, 0, 0, 0, -1, 1),\n",
        " (0, 0, 2, 0, 0, 0, 0, -1),\n",
        " (0, 0, 1, 0, 0, 1, 0, -1),\n",
        " (0, 0, 1, 0, 0, 0, 1, -1),\n",
        " (0, 0, 0, 0, 0, 2, 0, -1),\n",
        " (0, 0, 0, 0, 0, 1, 1, -1),\n",
        " (0, 0, 0, 0, 0, 0, 2, -1),\n",
        " (0, 0, 0, 0, 0, 3, 0, -2),\n",
        " (0, 0, 0, 0, 0, 2, 1, -2),\n",
        " (0, 0, 0, 0, 0, 1, 2, -2),\n",
        " (0, 0, 0, 0, 0, 0, 3, -2)]"
       ]
      }
     ],
     "prompt_number": 115
    },
    {
     "cell_type": "code",
     "collapsed": false,
     "input": [
      "P.walk_to_best(P.get_feasible(), path=True)"
     ],
     "language": "python",
     "metadata": {},
     "outputs": [
      {
       "metadata": {},
       "output_type": "pyout",
       "prompt_number": 120,
       "text": [
        "[(0, 0, 1, 0, 0, 0, 0, 0),\n",
        " (0, 0, 1, 0, 0, 0, 0, 1),\n",
        " (0, 0, 1, 0, 0, 0, 0, 2),\n",
        " (0, 0, 1, 0, 0, 0, 0, 3),\n",
        " (0, 0, 2, 0, 0, 0, 0, 3),\n",
        " (0, 0, 3, 0, 0, 0, 0, 3),\n",
        " (0, 0, 5, 0, 0, 0, 0, 2),\n",
        " (0, 0, 6, 0, 0, 0, 0, 2),\n",
        " (0, 0, 8, 0, 0, 0, 0, 1),\n",
        " (0, 0, 9, 0, 0, 0, 0, 1),\n",
        " (0, 0, 11, 0, 0, 0, 0, 0),\n",
        " (0, 0, 12, 0, 0, 0, 0, 0)]"
       ]
      }
     ],
     "prompt_number": 120
    },
    {
     "cell_type": "code",
     "collapsed": false,
     "input": [
      "[P.cost(v) for v in _]"
     ],
     "language": "python",
     "metadata": {},
     "outputs": [
      {
       "metadata": {},
       "output_type": "pyout",
       "prompt_number": 121,
       "text": [
        "[3, 7, 11, 15, 18, 21, 23, 26, 28, 31, 33, 36]"
       ]
      }
     ],
     "prompt_number": 121
    },
    {
     "cell_type": "code",
     "collapsed": false,
     "input": [],
     "language": "python",
     "metadata": {},
     "outputs": []
    }
   ],
   "metadata": {}
  }
 ]
}