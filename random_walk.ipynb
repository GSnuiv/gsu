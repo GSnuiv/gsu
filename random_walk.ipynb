{
 "metadata": {
  "name": "",
  "signature": "sha256:c364785baee9eb40134298b0b3bb280be2c85c2b62fc84a279a7a1dd8679c16a"
 },
 "nbformat": 3,
 "nbformat_minor": 0,
 "worksheets": [
  {
   "cells": [
    {
     "cell_type": "code",
     "collapsed": false,
     "input": [
      "%run ipproblem"
     ],
     "language": "python",
     "metadata": {},
     "outputs": [],
     "prompt_number": 2
    },
    {
     "cell_type": "code",
     "collapsed": false,
     "input": [
      "filas=4\n",
      "columnas=12\n",
      "A=random_matrix(ZZ,filas,columnas, x=0, y=4)\n",
      "c=random_vector(ZZ,columnas, x=1, y=5)\n",
      "b=random_vector(ZZ,filas, x=1, y=20)\n",
      "u=vector(ZZ, columnas*[1])\n",
      "c,A,b,u"
     ],
     "language": "python",
     "metadata": {},
     "outputs": [
      {
       "metadata": {},
       "output_type": "pyout",
       "prompt_number": 3,
       "text": [
        "(\n",
        "                                      [0 2 0 1 1 1 1 2 2 0 3 2]\n",
        "                                      [0 1 0 1 1 3 1 1 3 1 0 0]\n",
        "                                      [1 3 3 2 0 3 1 2 2 3 0 1]\n",
        "(3, 2, 3, 3, 3, 2, 3, 4, 2, 4, 4, 1), [0 0 0 3 3 2 0 0 0 3 0 3],\n",
        "\n",
        "(3, 3, 19, 3), (1, 1, 1, 1, 1, 1, 1, 1, 1, 1, 1, 1)\n",
        ")"
       ]
      }
     ],
     "prompt_number": 3
    },
    {
     "cell_type": "code",
     "collapsed": false,
     "input": [],
     "language": "python",
     "metadata": {},
     "outputs": [],
     "prompt_number": 3
    },
    {
     "cell_type": "code",
     "collapsed": false,
     "input": [
      "set_verbose(0)\n",
      "R=IPProblem(c,A,b,u)"
     ],
     "language": "python",
     "metadata": {},
     "outputs": [],
     "prompt_number": 4
    },
    {
     "cell_type": "code",
     "collapsed": false,
     "input": [
      "G=R.test_set_non_reducibles()"
     ],
     "language": "python",
     "metadata": {},
     "outputs": [],
     "prompt_number": 5
    },
    {
     "cell_type": "code",
     "collapsed": false,
     "input": [
      "len(G)"
     ],
     "language": "python",
     "metadata": {},
     "outputs": [
      {
       "metadata": {},
       "output_type": "pyout",
       "prompt_number": 6,
       "text": [
        "166"
       ]
      }
     ],
     "prompt_number": 6
    },
    {
     "cell_type": "code",
     "collapsed": false,
     "input": [
      "L=R.walk_to_best(vector(ZZ,columnas*[0]), path=True)\n",
      "L"
     ],
     "language": "python",
     "metadata": {},
     "outputs": [
      {
       "metadata": {},
       "output_type": "pyout",
       "prompt_number": 7,
       "text": [
        "[(0, 0, 0, 0, 0, 0, 0, 0, 0, 0, 0, 0),\n",
        " (0, 0, 0, 0, 0, 0, 0, 1, 0, 0, 0, 0),\n",
        " (0, 0, 0, 0, 0, 0, 0, 1, 0, 1, 0, 0),\n",
        " (1, 0, 0, 0, 0, 0, 0, 1, 0, 1, 0, 0),\n",
        " (1, 0, 1, 0, 0, 0, 0, 1, 0, 1, 0, 0),\n",
        " (1, 0, 1, 0, 0, 0, 1, 1, 0, 1, 0, 0)]"
       ]
      }
     ],
     "prompt_number": 7
    },
    {
     "cell_type": "code",
     "collapsed": false,
     "input": [
      "[c*v for v in L]"
     ],
     "language": "python",
     "metadata": {},
     "outputs": [
      {
       "metadata": {},
       "output_type": "pyout",
       "prompt_number": 8,
       "text": [
        "[0, 4, 8, 11, 14, 17]"
       ]
      }
     ],
     "prompt_number": 8
    },
    {
     "cell_type": "code",
     "collapsed": false,
     "input": [
      "A*L[-1], b"
     ],
     "language": "python",
     "metadata": {},
     "outputs": [
      {
       "metadata": {},
       "output_type": "pyout",
       "prompt_number": 9,
       "text": [
        "((3, 3, 10, 3), (3, 3, 19, 3))"
       ]
      }
     ],
     "prompt_number": 9
    },
    {
     "cell_type": "code",
     "collapsed": false,
     "input": [],
     "language": "python",
     "metadata": {},
     "outputs": []
    }
   ],
   "metadata": {}
  }
 ]
}