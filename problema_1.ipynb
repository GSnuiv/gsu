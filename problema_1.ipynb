{
 "metadata": {
  "name": "",
  "signature": "sha256:b06c87472c0a20bcbbceab6d47038b7df695af95bb6387d4fc5d6baa882c6d57"
 },
 "nbformat": 3,
 "nbformat_minor": 0,
 "worksheets": [
  {
   "cells": [
    {
     "cell_type": "code",
     "collapsed": false,
     "input": [
      "%run ipproblem"
     ],
     "language": "python",
     "metadata": {},
     "outputs": [],
     "prompt_number": 7
    },
    {
     "cell_type": "code",
     "collapsed": false,
     "input": [
      "c=(4, 1, 1, 3, 4, 2, 2, 2, 2, 3, 1, 3)\n",
      "A=[[1, 0, 0, 3, 1, 3, 3, 2, 1, 1, 3, 3],\n",
      "   [0, 3, 2, 0, 3, 2, 2, 2, 3, 0, 1, 2],\n",
      "   [0, 1, 2, 2, 1, 2, 0, 1, 2, 0, 3, 3],\n",
      "   [3, 0, 1, 2, 0, 0, 1, 1, 0, 1, 3, 1]]\n",
      "b=(17, 2, 13, 9)\n",
      "u=(1, 1, 1, 1, 1, 1, 1, 1, 1, 1, 1, 1)\n",
      "\n"
     ],
     "language": "python",
     "metadata": {},
     "outputs": [],
     "prompt_number": 8
    },
    {
     "cell_type": "code",
     "collapsed": false,
     "input": [],
     "language": "python",
     "metadata": {},
     "outputs": [],
     "prompt_number": 8
    },
    {
     "cell_type": "code",
     "collapsed": false,
     "input": [
      "set_verbose(0)\n",
      "R=IPProblem(c,A,b,u)"
     ],
     "language": "python",
     "metadata": {},
     "outputs": [],
     "prompt_number": 9
    },
    {
     "cell_type": "code",
     "collapsed": false,
     "input": [
      "G1=R.test_set_non_reducibles()"
     ],
     "language": "python",
     "metadata": {},
     "outputs": [],
     "prompt_number": 10
    },
    {
     "cell_type": "code",
     "collapsed": false,
     "input": [
      "len(G1)"
     ],
     "language": "python",
     "metadata": {},
     "outputs": [
      {
       "metadata": {},
       "output_type": "pyout",
       "prompt_number": 11,
       "text": [
        "67"
       ]
      }
     ],
     "prompt_number": 11
    },
    {
     "cell_type": "code",
     "collapsed": false,
     "input": [
      "G=R.minimal_test_set()"
     ],
     "language": "python",
     "metadata": {},
     "outputs": [],
     "prompt_number": 12
    },
    {
     "cell_type": "code",
     "collapsed": false,
     "input": [
      "len(G)"
     ],
     "language": "python",
     "metadata": {},
     "outputs": [
      {
       "metadata": {},
       "output_type": "pyout",
       "prompt_number": 13,
       "text": [
        "69"
       ]
      }
     ],
     "prompt_number": 13
    },
    {
     "cell_type": "code",
     "collapsed": false,
     "input": [
      "H=R.inter_reduce(G)"
     ],
     "language": "python",
     "metadata": {},
     "outputs": [],
     "prompt_number": 24
    },
    {
     "cell_type": "code",
     "collapsed": false,
     "input": [
      "len(H)"
     ],
     "language": "python",
     "metadata": {},
     "outputs": [
      {
       "metadata": {},
       "output_type": "pyout",
       "prompt_number": 26,
       "text": [
        "69"
       ]
      }
     ],
     "prompt_number": 26
    },
    {
     "cell_type": "code",
     "collapsed": false,
     "input": [
      "for v in G1:\n",
      "    if not v in G:\n",
      "        print v\n",
      "        "
     ],
     "language": "python",
     "metadata": {},
     "outputs": [
      {
       "output_type": "stream",
       "stream": "stdout",
       "text": [
        "(-1, 0, 0, 1, 0, 1, 0, 0, 0, 0, 0, 0)\n",
        "(1, 0, 0, -1, 0, 0, 0, 0, 0, 0, -1, 0)\n",
        "(-1, 0, 0, 0, 0, 1, 0, 0, 0, 1, 0, 0)\n",
        "(1, 0, 0, 0, 0, 0, 0, 0, 0, -1, -1, 0)\n",
        "(0, 0, 0, -1, 0, 0, 0, 0, 0, 1, 1, 0)\n"
       ]
      }
     ],
     "prompt_number": 18
    },
    {
     "cell_type": "code",
     "collapsed": false,
     "input": [
      "for v in G:\n",
      "    if not v in G1:\n",
      "        print v"
     ],
     "language": "python",
     "metadata": {},
     "outputs": [
      {
       "output_type": "stream",
       "stream": "stdout",
       "text": [
        "(1, 0, 0, -1, 0, 1, -1, 0, 0, 0, 0, 0)\n",
        "(1, 0, 0, -1, 0, 1, 0, -1, 0, 0, 0, 0)\n",
        "(1, 0, 0, -1, 0, 1, 0, 0, 0, -1, 0, 0)\n",
        "(1, 0, 0, -1, 0, 1, 0, 0, 0, 0, 0, -1)\n",
        "(0, 0, -1, -1, 0, 0, 0, 1, 0, 1, 0, 0)\n",
        "(1, 0, 0, 0, 0, 1, 0, 0, 0, -1, 0, -1)\n",
        "(0, 0, 0, -1, 0, -1, 0, 0, 0, 1, 0, 1)\n"
       ]
      }
     ],
     "prompt_number": 17
    },
    {
     "cell_type": "code",
     "collapsed": false,
     "input": [
      "def test_set(R,H):\n",
      "    l=[]\n",
      "    for h in H:\n",
      "        v_p,v_m=R.pm_split(h)\n",
      "        l.append((R.order(h, vector(ZZ,len(h)*[0]))>0, R.is_feasible(v_p), R.is_feasible(v_m))) \n",
      "    return l"
     ],
     "language": "python",
     "metadata": {},
     "outputs": [],
     "prompt_number": 23
    },
    {
     "cell_type": "code",
     "collapsed": false,
     "input": [
      "test_set(R,G1)"
     ],
     "language": "python",
     "metadata": {},
     "outputs": [
      {
       "metadata": {},
       "output_type": "pyout",
       "prompt_number": 24,
       "text": [
        "[(True, True, True),\n",
        " (True, False, True),\n",
        " (True, True, True),\n",
        " (True, True, True),\n",
        " (True, False, True),\n",
        " (True, True, True),\n",
        " (True, True, True),\n",
        " (True, True, True),\n",
        " (True, False, True),\n",
        " (True, True, True),\n",
        " (True, True, True),\n",
        " (True, True, True),\n",
        " (True, True, True),\n",
        " (True, True, True),\n",
        " (True, True, True),\n",
        " (True, True, True),\n",
        " (True, True, True),\n",
        " (True, True, True),\n",
        " (True, True, True),\n",
        " (True, True, True),\n",
        " (True, True, True),\n",
        " (True, True, True),\n",
        " (True, True, True),\n",
        " (True, True, True),\n",
        " (True, True, True),\n",
        " (True, True, True),\n",
        " (True, True, True),\n",
        " (True, True, True),\n",
        " (True, True, True),\n",
        " (True, True, True),\n",
        " (True, True, True),\n",
        " (True, True, True),\n",
        " (True, True, True),\n",
        " (True, True, True),\n",
        " (True, True, True),\n",
        " (True, True, True),\n",
        " (True, True, True),\n",
        " (True, True, True),\n",
        " (True, True, True),\n",
        " (True, True, True),\n",
        " (True, True, True),\n",
        " (True, True, True),\n",
        " (True, True, True),\n",
        " (True, True, True),\n",
        " (True, True, True),\n",
        " (True, True, True),\n",
        " (True, True, True),\n",
        " (True, True, True),\n",
        " (True, True, True),\n",
        " (True, True, True),\n",
        " (True, True, True),\n",
        " (True, True, True),\n",
        " (True, True, True),\n",
        " (True, True, True),\n",
        " (True, True, True),\n",
        " (True, True, True),\n",
        " (True, True, True),\n",
        " (True, True, True),\n",
        " (True, True, True),\n",
        " (True, True, True),\n",
        " (True, True, True),\n",
        " (True, True, True),\n",
        " (True, True, True),\n",
        " (True, True, True),\n",
        " (True, True, True),\n",
        " (True, True, True),\n",
        " (True, True, True)]"
       ]
      }
     ],
     "prompt_number": 24
    },
    {
     "cell_type": "code",
     "collapsed": false,
     "input": [
      "test_set(R,G)"
     ],
     "language": "python",
     "metadata": {},
     "outputs": [
      {
       "metadata": {},
       "output_type": "pyout",
       "prompt_number": 25,
       "text": [
        "[(True, True, True),\n",
        " (True, False, True),\n",
        " (True, True, True),\n",
        " (True, True, True),\n",
        " (True, False, True),\n",
        " (True, True, True),\n",
        " (True, True, True),\n",
        " (True, True, True),\n",
        " (True, False, True),\n",
        " (True, True, True),\n",
        " (True, True, True),\n",
        " (True, True, True),\n",
        " (True, True, True),\n",
        " (True, True, True),\n",
        " (True, True, True),\n",
        " (True, True, True),\n",
        " (True, True, True),\n",
        " (True, True, True),\n",
        " (True, True, True),\n",
        " (True, True, True),\n",
        " (True, True, True),\n",
        " (True, True, True),\n",
        " (True, True, True),\n",
        " (True, True, True),\n",
        " (True, True, True),\n",
        " (True, True, True),\n",
        " (True, True, True),\n",
        " (True, True, True),\n",
        " (True, True, True),\n",
        " (True, True, True),\n",
        " (True, True, True),\n",
        " (True, True, True),\n",
        " (True, True, True),\n",
        " (True, True, True),\n",
        " (True, True, True),\n",
        " (True, True, True),\n",
        " (True, True, True),\n",
        " (True, True, True),\n",
        " (True, True, True),\n",
        " (True, True, True),\n",
        " (True, True, True),\n",
        " (True, True, True),\n",
        " (True, True, True),\n",
        " (True, True, True),\n",
        " (True, True, True),\n",
        " (True, True, True),\n",
        " (True, True, True),\n",
        " (True, True, True),\n",
        " (True, True, True),\n",
        " (True, True, True),\n",
        " (True, True, True),\n",
        " (True, True, True),\n",
        " (True, True, True),\n",
        " (True, True, True),\n",
        " (True, True, True),\n",
        " (True, True, True),\n",
        " (True, True, True),\n",
        " (True, True, True),\n",
        " (True, True, True),\n",
        " (True, True, True),\n",
        " (True, True, True),\n",
        " (True, True, True),\n",
        " (True, True, True),\n",
        " (True, True, True),\n",
        " (True, True, True),\n",
        " (True, True, True),\n",
        " (True, True, True),\n",
        " (True, True, True),\n",
        " (True, True, True)]"
       ]
      }
     ],
     "prompt_number": 25
    },
    {
     "cell_type": "code",
     "collapsed": false,
     "input": [
      "G1[1]"
     ],
     "language": "python",
     "metadata": {},
     "outputs": [
      {
       "metadata": {},
       "output_type": "pyout",
       "prompt_number": 26,
       "text": [
        "(0, 1, 0, 0, 0, 0, 0, 0, 0, 0, 0, 0)"
       ]
      }
     ],
     "prompt_number": 26
    },
    {
     "cell_type": "code",
     "collapsed": false,
     "input": [
      "Z=R.test_set()"
     ],
     "language": "python",
     "metadata": {},
     "outputs": [
      {
       "ename": "KeyboardInterrupt",
       "evalue": "",
       "output_type": "pyerr",
       "traceback": [
        "\u001b[0;31m---------------------------------------------------------------------------\u001b[0m",
        "\u001b[0;31mKeyboardInterrupt\u001b[0m                         Traceback (most recent call last)",
        "\u001b[0;32m<ipython-input-27-11e4dd10f676>\u001b[0m in \u001b[0;36m<module>\u001b[0;34m()\u001b[0m\n\u001b[0;32m----> 1\u001b[0;31m \u001b[0mZ\u001b[0m\u001b[0;34m=\u001b[0m\u001b[0mR\u001b[0m\u001b[0;34m.\u001b[0m\u001b[0mtest_set\u001b[0m\u001b[0;34m(\u001b[0m\u001b[0;34m)\u001b[0m\u001b[0;34m\u001b[0m\u001b[0m\n\u001b[0m",
        "\u001b[0;32m/Users/soto/Documents/Maths/Papers/optmizacion/gsu/ipproblem.py\u001b[0m in \u001b[0;36mtest_set\u001b[0;34m(self)\u001b[0m\n\u001b[1;32m    128\u001b[0m         \u001b[0mpairs\u001b[0m\u001b[0;34m=\u001b[0m\u001b[0;34m[\u001b[0m\u001b[0;34m(\u001b[0m\u001b[0mi\u001b[0m\u001b[0;34m,\u001b[0m\u001b[0mj\u001b[0m\u001b[0;34m)\u001b[0m \u001b[0;32mfor\u001b[0m \u001b[0mi\u001b[0m \u001b[0;32min\u001b[0m \u001b[0mrange\u001b[0m\u001b[0;34m(\u001b[0m\u001b[0mlen\u001b[0m\u001b[0;34m(\u001b[0m\u001b[0mB\u001b[0m\u001b[0;34m)\u001b[0m\u001b[0;34m)\u001b[0m \u001b[0;32mfor\u001b[0m \u001b[0mj\u001b[0m \u001b[0;32min\u001b[0m \u001b[0mrange\u001b[0m\u001b[0;34m(\u001b[0m\u001b[0mi\u001b[0m\u001b[0;34m+\u001b[0m\u001b[0;36m1\u001b[0m\u001b[0;34m,\u001b[0m\u001b[0mlen\u001b[0m\u001b[0;34m(\u001b[0m\u001b[0mB\u001b[0m\u001b[0;34m)\u001b[0m\u001b[0;34m)\u001b[0m\u001b[0;34m]\u001b[0m\u001b[0;34m\u001b[0m\u001b[0m\n\u001b[1;32m    129\u001b[0m         \u001b[0;32mwhile\u001b[0m \u001b[0mpairs\u001b[0m\u001b[0;34m:\u001b[0m\u001b[0;34m\u001b[0m\u001b[0m\n\u001b[0;32m--> 130\u001b[0;31m             \u001b[0mverbose\u001b[0m\u001b[0;34m(\u001b[0m\u001b[0;34m\"pairs=%s\"\u001b[0m\u001b[0;34m%\u001b[0m\u001b[0mpairs\u001b[0m\u001b[0;34m,\u001b[0m \u001b[0;36m3\u001b[0m\u001b[0;34m)\u001b[0m\u001b[0;34m\u001b[0m\u001b[0m\n\u001b[0m\u001b[1;32m    131\u001b[0m             \u001b[0mi\u001b[0m\u001b[0;34m,\u001b[0m\u001b[0mj\u001b[0m\u001b[0;34m=\u001b[0m\u001b[0mpairs\u001b[0m\u001b[0;34m[\u001b[0m\u001b[0;36m0\u001b[0m\u001b[0;34m]\u001b[0m\u001b[0;34m\u001b[0m\u001b[0m\n\u001b[1;32m    132\u001b[0m             \u001b[0mv\u001b[0m\u001b[0;34m,\u001b[0m\u001b[0mw\u001b[0m\u001b[0;34m=\u001b[0m\u001b[0mB\u001b[0m\u001b[0;34m[\u001b[0m\u001b[0mi\u001b[0m\u001b[0;34m]\u001b[0m\u001b[0;34m,\u001b[0m\u001b[0mB\u001b[0m\u001b[0;34m[\u001b[0m\u001b[0mj\u001b[0m\u001b[0;34m]\u001b[0m\u001b[0;34m\u001b[0m\u001b[0m\n",
        "\u001b[0;31mKeyboardInterrupt\u001b[0m: "
       ]
      }
     ],
     "prompt_number": 27
    },
    {
     "cell_type": "code",
     "collapsed": false,
     "input": [
      "1+1"
     ],
     "language": "python",
     "metadata": {},
     "outputs": [
      {
       "metadata": {},
       "output_type": "pyout",
       "prompt_number": 28,
       "text": [
        "2"
       ]
      }
     ],
     "prompt_number": 28
    },
    {
     "cell_type": "code",
     "collapsed": false,
     "input": [],
     "language": "python",
     "metadata": {},
     "outputs": []
    }
   ],
   "metadata": {}
  }
 ]
}