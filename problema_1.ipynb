{
 "metadata": {
  "name": "",
  "signature": "sha256:0f8d932b23f3d70fcb554d7ffd329eceaaa8a64c9b393d4e2d64b2cfaf10f11b"
 },
 "nbformat": 3,
 "nbformat_minor": 0,
 "worksheets": [
  {
   "cells": [
    {
     "cell_type": "code",
     "collapsed": false,
     "input": [
      "%run ipproblem"
     ],
     "language": "python",
     "metadata": {},
     "outputs": [],
     "prompt_number": 1
    },
    {
     "cell_type": "code",
     "collapsed": false,
     "input": [
      "c=(4, 1, 1, 3, 4, 2, 2, 2, 2, 3, 1, 3)\n",
      "A=[[1, 0, 0, 3, 1, 3, 3, 2, 1, 1, 3, 3],\n",
      "   [0, 3, 2, 0, 3, 2, 2, 2, 3, 0, 1, 2],\n",
      "   [0, 1, 2, 2, 1, 2, 0, 1, 2, 0, 3, 3],\n",
      "   [3, 0, 1, 2, 0, 0, 1, 1, 0, 1, 3, 1]]\n",
      "b=(17, 2, 13, 9)\n",
      "u=(1, 1, 1, 1, 1, 1, 1, 1, 1, 1, 1, 1)\n",
      "\n"
     ],
     "language": "python",
     "metadata": {},
     "outputs": [],
     "prompt_number": 2
    },
    {
     "cell_type": "code",
     "collapsed": false,
     "input": [],
     "language": "python",
     "metadata": {},
     "outputs": [],
     "prompt_number": 2
    },
    {
     "cell_type": "code",
     "collapsed": false,
     "input": [
      "set_verbose(0)\n",
      "R=IPProblem(c,A,b,u)"
     ],
     "language": "python",
     "metadata": {},
     "outputs": [],
     "prompt_number": 3
    },
    {
     "cell_type": "code",
     "collapsed": false,
     "input": [
      "H1=R.test_set_non_reducibles()\n",
      "H=R.inter_reduce(H1)\n",
      "len(H)"
     ],
     "language": "python",
     "metadata": {},
     "outputs": [
      {
       "metadata": {},
       "output_type": "pyout",
       "prompt_number": 4,
       "text": [
        "66"
       ]
      }
     ],
     "prompt_number": 4
    },
    {
     "cell_type": "code",
     "collapsed": false,
     "input": [
      "G=R.minimal_test_set()\n",
      "len(G)"
     ],
     "language": "python",
     "metadata": {},
     "outputs": [
      {
       "metadata": {},
       "output_type": "pyout",
       "prompt_number": 5,
       "text": [
        "66"
       ]
      }
     ],
     "prompt_number": 5
    },
    {
     "cell_type": "markdown",
     "metadata": {},
     "source": [
      "Comprobaciones"
     ]
    },
    {
     "cell_type": "code",
     "collapsed": false,
     "input": [
      "(all(R.is_improvement(v) for v in G) and \n",
      " all(R.is_improvement(v) for v in H) and \n",
      " len(H)==len(G) and \n",
      " all(v in G for v in H) \n",
      " and all(v in H1 for v in G))"
     ],
     "language": "python",
     "metadata": {},
     "outputs": [
      {
       "metadata": {},
       "output_type": "pyout",
       "prompt_number": 6,
       "text": [
        "True"
       ]
      }
     ],
     "prompt_number": 6
    },
    {
     "cell_type": "code",
     "collapsed": false,
     "input": [
      "v=R.get_feasible()\n",
      "v"
     ],
     "language": "python",
     "metadata": {},
     "outputs": [
      {
       "metadata": {},
       "output_type": "pyout",
       "prompt_number": 7,
       "text": [
        "(1, 0, 0, 0, 0, 0, 0, 0, 0, 0, 0, 0)"
       ]
      }
     ],
     "prompt_number": 7
    },
    {
     "cell_type": "code",
     "collapsed": false,
     "input": [
      "R.walk_to_best(v, path=True)"
     ],
     "language": "python",
     "metadata": {},
     "outputs": [
      {
       "metadata": {},
       "output_type": "pyout",
       "prompt_number": 8,
       "text": [
        "[(1, 0, 0, 0, 0, 0, 0, 0, 0, 0, 0, 0),\n",
        " (1, 0, 0, 1, 0, 0, 0, 0, 0, 0, 0, 0),\n",
        " (1, 0, 0, 1, 0, 0, 0, 0, 0, 1, 0, 0),\n",
        " (1, 0, 0, 1, 0, 0, 0, 0, 0, 1, 0, 1)]"
       ]
      }
     ],
     "prompt_number": 8
    },
    {
     "cell_type": "code",
     "collapsed": false,
     "input": [
      "[R.cost(v) for v in _]"
     ],
     "language": "python",
     "metadata": {},
     "outputs": [
      {
       "metadata": {},
       "output_type": "pyout",
       "prompt_number": 9,
       "text": [
        "[4, 7, 10, 13]"
       ]
      }
     ],
     "prompt_number": 9
    },
    {
     "cell_type": "code",
     "collapsed": false,
     "input": [],
     "language": "python",
     "metadata": {},
     "outputs": []
    }
   ],
   "metadata": {}
  }
 ]
}