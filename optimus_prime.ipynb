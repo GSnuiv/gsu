{
 "metadata": {
  "name": "",
  "signature": "sha256:e0188b04abff77a21444e9035a53ff7e5b7cf640f2c5a7d956defc49068e16ec"
 },
 "nbformat": 3,
 "nbformat_minor": 0,
 "worksheets": [
  {
   "cells": [
    {
     "cell_type": "markdown",
     "metadata": {},
     "source": [
      "# Algoritmos de U-W-Z para G-S-U.\n",
      "\n",
      "Esta hoja contiene los resultados de la implementaci\u00f3n de los algoritmos del art\u00edculo (Urbaniak, Weismantel, Ziegler 1997). De momento no pod\u00e9is ejecutarla, pero s\u00ed pod\u00e9is leerla, para ver el tipo de cosas que ya podemos calcular. \n",
      "\n",
      "El n\u00facleo de lo que he hecho es un programa en SAGE de unas 200 l\u00edneas. Cuando nos veamos despu\u00e9s de pascua, os dir\u00e9 c\u00f3mo ten\u00e9is que llamarlo desde SAGE.\n",
      "\n",
      "\n"
     ]
    },
    {
     "cell_type": "code",
     "collapsed": false,
     "input": [
      "#%load_ext sage"
     ],
     "language": "python",
     "metadata": {},
     "outputs": [],
     "prompt_number": 109
    },
    {
     "cell_type": "code",
     "collapsed": false,
     "input": [
      "%run ipproblem"
     ],
     "language": "python",
     "metadata": {},
     "outputs": [],
     "prompt_number": 121
    },
    {
     "cell_type": "code",
     "collapsed": false,
     "input": [],
     "language": "python",
     "metadata": {},
     "outputs": [],
     "prompt_number": 121
    },
    {
     "cell_type": "markdown",
     "metadata": {},
     "source": [
      "Un problema de IP se declara de la siguiente forma:"
     ]
    },
    {
     "cell_type": "code",
     "collapsed": false,
     "input": [],
     "language": "python",
     "metadata": {},
     "outputs": [],
     "prompt_number": 121
    },
    {
     "cell_type": "code",
     "collapsed": false,
     "input": [
      "P1=IPProblem(c=[1,2,1],\n",
      "            A=[[1,0,0],[0,0,1]], \n",
      "            b=[10,10] )"
     ],
     "language": "python",
     "metadata": {},
     "outputs": [],
     "prompt_number": 122
    },
    {
     "cell_type": "markdown",
     "metadata": {},
     "source": [
      "O bien, simplemente como"
     ]
    },
    {
     "cell_type": "code",
     "collapsed": false,
     "input": [
      "P1=IPProblem([1,2,1],\n",
      "            [[1,0,0],[0,0,1]], \n",
      "            [10,10] )"
     ],
     "language": "python",
     "metadata": {},
     "outputs": [],
     "prompt_number": 123
    },
    {
     "cell_type": "markdown",
     "metadata": {},
     "source": [
      "Para comprobar los datos que hemos metido, podemos \"imprimir\" el problema"
     ]
    },
    {
     "cell_type": "code",
     "collapsed": false,
     "input": [
      "print P1"
     ],
     "language": "python",
     "metadata": {},
     "outputs": [
      {
       "output_type": "stream",
       "stream": "stdout",
       "text": [
        "Integer programming problem\n",
        "    max\\{c.x : A x <= b,  0<=x<=u\\}\n",
        "with\n",
        "c=(1, 2, 1),\n",
        "A=\n",
        "[1 0 0]\n",
        "[0 0 1],\n",
        "b=(10, 10),\n",
        "u=(10, 0, 10).\n"
       ]
      }
     ],
     "prompt_number": 124
    },
    {
     "cell_type": "markdown",
     "metadata": {},
     "source": [
      "Algunas funciones \u00fatiles:\n",
      "\n",
      "* `is_feasible(v)` determina si el vector v es \u201cfeasible\u201d.\n",
      "* `order(v,w)` determina si los vectores est\u00e1n ordenados para el orden $\\prec_c$  del art\u00edculo\n",
      "* `pm_split(v)` devuelve un par de vectores, correspondientes a $v^+$ y $v^-$ del art\u00edculo.\n",
      "* `succ(v)` devuelve el vector $v^\\prec$ del art\u00edculo\n",
      "\n",
      "Hay m\u00e1s funciones, pero no voy a dar ejemplos de todas. "
     ]
    },
    {
     "cell_type": "code",
     "collapsed": false,
     "input": [
      "P1.is_feasible(vector(ZZ,[0,0,0]))"
     ],
     "language": "python",
     "metadata": {},
     "outputs": [
      {
       "metadata": {},
       "output_type": "pyout",
       "prompt_number": 125,
       "text": [
        "True"
       ]
      }
     ],
     "prompt_number": 125
    },
    {
     "cell_type": "code",
     "collapsed": false,
     "input": [
      "P1.order(vector(ZZ,[0,2,0]),vector(ZZ,[13,0,1]))"
     ],
     "language": "python",
     "metadata": {},
     "outputs": [
      {
       "metadata": {},
       "output_type": "pyout",
       "prompt_number": 126,
       "text": [
        "-1"
       ]
      }
     ],
     "prompt_number": 126
    },
    {
     "cell_type": "markdown",
     "metadata": {},
     "source": [
      "Para las comprobaciones, uso el IP del Ejemplo 2.3 del art\u00edculo"
     ]
    },
    {
     "cell_type": "code",
     "collapsed": false,
     "input": [
      "P=IPProblem(c=[1,3,2], A=[[1,2,3]], b=[3], u=[1,1,1])\n",
      "print P"
     ],
     "language": "python",
     "metadata": {},
     "outputs": [
      {
       "output_type": "stream",
       "stream": "stdout",
       "text": [
        "Integer programming problem\n",
        "    max\\{c.x : A x <= b,  0<=x<=u\\}\n",
        "with\n",
        "c=(1, 3, 2),\n",
        "A=\n",
        "[1 2 3],\n",
        "b=(3),\n",
        "u=(1, 1, 1).\n"
       ]
      }
     ],
     "prompt_number": 127
    },
    {
     "cell_type": "markdown",
     "metadata": {},
     "source": [
      "C\u00e1lculo de un test set, simple y llan0; lo hago para los dos problemas que hemos definido, `P1` y `P`.  `test_set` usa el algoritmo 2.1"
     ]
    },
    {
     "cell_type": "code",
     "collapsed": false,
     "input": [
      "set_verbose(0)\n",
      "P.test_set()"
     ],
     "language": "python",
     "metadata": {},
     "outputs": [
      {
       "metadata": {},
       "output_type": "pyout",
       "prompt_number": 128,
       "text": [
        "[(1, 0, 0),\n",
        " (0, 1, 0),\n",
        " (0, 0, 1),\n",
        " (-1, 1, 0),\n",
        " (-1, 0, 1),\n",
        " (0, 1, -1),\n",
        " (1, 1, -1)]"
       ]
      }
     ],
     "prompt_number": 128
    },
    {
     "cell_type": "code",
     "collapsed": false,
     "input": [
      "T=P1.test_set()\n",
      "T"
     ],
     "language": "python",
     "metadata": {},
     "outputs": [
      {
       "metadata": {},
       "output_type": "pyout",
       "prompt_number": 129,
       "text": [
        "[(1, 0, 0),\n",
        " (0, 1, 0),\n",
        " (0, 0, 1),\n",
        " (1, 0, -1),\n",
        " (-1, 0, 2),\n",
        " (2, 0, -2),\n",
        " (-2, 0, 3),\n",
        " (-3, 0, 4),\n",
        " (3, 0, -3),\n",
        " (-4, 0, 5),\n",
        " (4, 0, -4),\n",
        " (-5, 0, 6),\n",
        " (-6, 0, 7),\n",
        " (5, 0, -5),\n",
        " (-7, 0, 8),\n",
        " (-8, 0, 9),\n",
        " (6, 0, -6),\n",
        " (-9, 0, 10),\n",
        " (7, 0, -7),\n",
        " (8, 0, -8),\n",
        " (9, 0, -9),\n",
        " (10, 0, -10)]"
       ]
      }
     ],
     "prompt_number": 129
    },
    {
     "cell_type": "markdown",
     "metadata": {},
     "source": [
      "Como se puede ver, sobran vectores. Hay que definir varias funciones de reducci\u00f3n, pero no me entretengo. S\u00f3lo un ejemplo:"
     ]
    },
    {
     "cell_type": "code",
     "collapsed": false,
     "input": [
      "P1.can_reduce_by(v=vector(ZZ, [1,0,-1]), w=vector([10,0,-10]))"
     ],
     "language": "python",
     "metadata": {},
     "outputs": [
      {
       "metadata": {},
       "output_type": "pyout",
       "prompt_number": 130,
       "text": [
        "True"
       ]
      }
     ],
     "prompt_number": 130
    },
    {
     "cell_type": "markdown",
     "metadata": {},
     "source": [
      "Ahora podemos reducir el test set que hemos encontrado."
     ]
    },
    {
     "cell_type": "code",
     "collapsed": false,
     "input": [
      "set_verbose(0) # or 2\n",
      "P1.inter_reduce(T)"
     ],
     "language": "python",
     "metadata": {},
     "outputs": [
      {
       "metadata": {},
       "output_type": "pyout",
       "prompt_number": 132,
       "text": [
        "[(1, 0, 0), (0, 1, 0), (0, 0, 1)]"
       ]
      }
     ],
     "prompt_number": 132
    },
    {
     "cell_type": "code",
     "collapsed": false,
     "input": [],
     "language": "python",
     "metadata": {},
     "outputs": []
    },
    {
     "cell_type": "code",
     "collapsed": false,
     "input": [],
     "language": "python",
     "metadata": {},
     "outputs": []
    },
    {
     "cell_type": "markdown",
     "metadata": {},
     "source": [
      "La funci\u00f3n `minimal_test_set` es una implementaci\u00f3n del algoritmo 2.7. Devuelve el \u00fanico test-set minimal."
     ]
    },
    {
     "cell_type": "code",
     "collapsed": false,
     "input": [
      "P.minimal_test_set()"
     ],
     "language": "python",
     "metadata": {},
     "outputs": [
      {
       "metadata": {},
       "output_type": "pyout",
       "prompt_number": 79,
       "text": [
        "[(1, 0, 0), (0, 1, 0), (0, 0, 1), (-1, 1, 0), (-1, 0, 1), (0, 1, -1)]"
       ]
      }
     ],
     "prompt_number": 79
    },
    {
     "cell_type": "code",
     "collapsed": false,
     "input": [
      "P1.minimal_test_set()"
     ],
     "language": "python",
     "metadata": {},
     "outputs": [
      {
       "metadata": {},
       "output_type": "pyout",
       "prompt_number": 80,
       "text": [
        "[(1, 0, 0), (0, 1, 0), (0, 0, 1)]"
       ]
      }
     ],
     "prompt_number": 80
    },
    {
     "cell_type": "markdown",
     "metadata": {},
     "source": [
      "Por \u00faltimo, `reduced_test_set` primero calcula un test set, sin reducir, y luego aplica reducci\u00f3n. Debe dar lo mismo que antes; el \u00fanico test-set minimal."
     ]
    },
    {
     "cell_type": "code",
     "collapsed": false,
     "input": [
      "set_verbose(0)\n",
      "P.reduced_test_set()"
     ],
     "language": "python",
     "metadata": {},
     "outputs": [
      {
       "metadata": {},
       "output_type": "pyout",
       "prompt_number": 81,
       "text": [
        "[(1, 0, 0), (0, 1, 0), (0, 0, 1), (-1, 1, 0), (-1, 0, 1), (0, 1, -1)]"
       ]
      }
     ],
     "prompt_number": 81
    },
    {
     "cell_type": "code",
     "collapsed": false,
     "input": [
      "P1.reduced_test_set()"
     ],
     "language": "python",
     "metadata": {},
     "outputs": [
      {
       "metadata": {},
       "output_type": "pyout",
       "prompt_number": 82,
       "text": [
        "[(1, 0, 0), (0, 1, 0), (0, 0, 1)]"
       ]
      }
     ],
     "prompt_number": 82
    },
    {
     "cell_type": "markdown",
     "metadata": {},
     "source": [
      "Algoritmo 2.10. Mejor que el Grobner simple, pero no necesariamente reducido."
     ]
    },
    {
     "cell_type": "code",
     "collapsed": false,
     "input": [
      "set_verbose(0)\n",
      "P1.test_set_non_reducibles()"
     ],
     "language": "python",
     "metadata": {},
     "outputs": [
      {
       "metadata": {},
       "output_type": "pyout",
       "prompt_number": 83,
       "text": [
        "[(1, 0, 0), (0, 1, 0), (0, 0, 1), (1, 0, -1), (-1, 0, 1)]"
       ]
      }
     ],
     "prompt_number": 83
    },
    {
     "cell_type": "code",
     "collapsed": false,
     "input": [
      "P.test_set_non_reducibles()"
     ],
     "language": "python",
     "metadata": {},
     "outputs": [
      {
       "metadata": {},
       "output_type": "pyout",
       "prompt_number": 84,
       "text": [
        "[(1, 0, 0), (0, 1, 0), (0, 0, 1), (-1, 1, 0), (-1, 0, 1), (0, 1, -1)]"
       ]
      }
     ],
     "prompt_number": 84
    },
    {
     "cell_type": "markdown",
     "metadata": {},
     "source": [
      "Anulo los c\u00f3mputos de tiempo hasta que se estabilicen los algoritmos."
     ]
    },
    {
     "cell_type": "code",
     "collapsed": false,
     "input": [
      "#%timeit -n100 P.groebner_simple()"
     ],
     "language": "python",
     "metadata": {},
     "outputs": [],
     "prompt_number": 85
    },
    {
     "cell_type": "code",
     "collapsed": false,
     "input": [
      "#%timeit -n100 P.groebner_with_reduction()"
     ],
     "language": "python",
     "metadata": {},
     "outputs": [],
     "prompt_number": 86
    },
    {
     "cell_type": "code",
     "collapsed": false,
     "input": [
      "#%timeit -n100 P.groebner_reduced()"
     ],
     "language": "python",
     "metadata": {},
     "outputs": [],
     "prompt_number": 87
    },
    {
     "cell_type": "code",
     "collapsed": false,
     "input": [
      "#%timeit -n100 P.groebner_non_reducibles()"
     ],
     "language": "python",
     "metadata": {},
     "outputs": [],
     "prompt_number": 88
    },
    {
     "cell_type": "markdown",
     "metadata": {},
     "source": [
      "C\u00e1lculo del \u00f3ptimo a partir de un factible. Siempre se usa el test set minimal.\n"
     ]
    },
    {
     "cell_type": "code",
     "collapsed": false,
     "input": [
      "%run ipproblem\n",
      "P=IPProblem(c=[1,3,2], A=[[1,2,3]], b=[3], u=[1,1,1])\n",
      "set_verbose(0)\n",
      "P.walk_to_best([0,0,0])\n"
     ],
     "language": "python",
     "metadata": {},
     "outputs": [
      {
       "metadata": {},
       "output_type": "pyout",
       "prompt_number": 89,
       "text": [
        "(1, 1, 0)"
       ]
      }
     ],
     "prompt_number": 89
    },
    {
     "cell_type": "markdown",
     "metadata": {},
     "source": [
      "Tambi\u00e9n podemos pedir el camino completo desde el inicial al final."
     ]
    },
    {
     "cell_type": "code",
     "collapsed": false,
     "input": [
      "P.walk_to_best([0,0,0], path=True)"
     ],
     "language": "python",
     "metadata": {},
     "outputs": [
      {
       "metadata": {},
       "output_type": "pyout",
       "prompt_number": 90,
       "text": [
        "[(0, 0, 0), (0, 1, 0), (1, 1, 0)]"
       ]
      }
     ],
     "prompt_number": 90
    },
    {
     "cell_type": "code",
     "collapsed": false,
     "input": [
      "P.walk_to_best([0,0,1])"
     ],
     "language": "python",
     "metadata": {},
     "outputs": [
      {
       "metadata": {},
       "output_type": "pyout",
       "prompt_number": 91,
       "text": [
        "(1, 1, 0)"
       ]
      }
     ],
     "prompt_number": 91
    },
    {
     "cell_type": "code",
     "collapsed": false,
     "input": [
      "P.walk_to_best([10,10,10]) #\u00a0not feasible"
     ],
     "language": "python",
     "metadata": {},
     "outputs": [
      {
       "metadata": {},
       "output_type": "pyout",
       "prompt_number": 92,
       "text": [
        "False"
       ]
      }
     ],
     "prompt_number": 92
    },
    {
     "cell_type": "code",
     "collapsed": false,
     "input": [
      "P1.walk_to_best([0,0,0], path=True)"
     ],
     "language": "python",
     "metadata": {},
     "outputs": [
      {
       "metadata": {},
       "output_type": "pyout",
       "prompt_number": 93,
       "text": [
        "[(0, 0, 0),\n",
        " (1, 0, 0),\n",
        " (2, 0, 0),\n",
        " (3, 0, 0),\n",
        " (4, 0, 0),\n",
        " (5, 0, 0),\n",
        " (6, 0, 0),\n",
        " (7, 0, 0),\n",
        " (8, 0, 0),\n",
        " (9, 0, 0),\n",
        " (10, 0, 0),\n",
        " (10, 0, 1),\n",
        " (10, 0, 2),\n",
        " (10, 0, 3),\n",
        " (10, 0, 4),\n",
        " (10, 0, 5),\n",
        " (10, 0, 6),\n",
        " (10, 0, 7),\n",
        " (10, 0, 8),\n",
        " (10, 0, 9),\n",
        " (10, 0, 10)]"
       ]
      }
     ],
     "prompt_number": 93
    },
    {
     "cell_type": "code",
     "collapsed": false,
     "input": [],
     "language": "python",
     "metadata": {},
     "outputs": [],
     "prompt_number": 59
    },
    {
     "cell_type": "code",
     "collapsed": false,
     "input": [
      "filas=4\n",
      "columnas=12\n",
      "A=random_matrix(ZZ,filas,columnas, x=0, y=4)\n",
      "c=random_vector(ZZ,columnas, x=1, y=5)\n",
      "b=random_vector(ZZ,filas, x=1, y=20)\n",
      "u=vector(ZZ, columnas*[1])\n",
      "c,A,b,u"
     ],
     "language": "python",
     "metadata": {},
     "outputs": [
      {
       "metadata": {},
       "output_type": "pyout",
       "prompt_number": 92,
       "text": [
        "(\n",
        "                                      [2 3 3 2 2 2 2 2 2 1 3 3]\n",
        "                                      [0 3 2 0 3 1 1 0 3 0 3 3]\n",
        "                                      [3 3 3 1 3 2 1 1 1 2 2 1]\n",
        "(3, 3, 1, 4, 1, 4, 1, 1, 1, 1, 1, 4), [2 0 0 0 3 2 0 3 0 0 0 1],\n",
        "\n",
        "(2, 14, 13, 9), (1, 1, 1, 1, 1, 1, 1, 1, 1, 1, 1, 1)\n",
        ")"
       ]
      }
     ],
     "prompt_number": 92
    },
    {
     "cell_type": "code",
     "collapsed": false,
     "input": [
      "%run ipproblem\n"
     ],
     "language": "python",
     "metadata": {},
     "outputs": [],
     "prompt_number": 93
    },
    {
     "cell_type": "code",
     "collapsed": false,
     "input": [
      "set_verbose(0)\n",
      "R=IPProblem(c,A,b,u)\n"
     ],
     "language": "python",
     "metadata": {},
     "outputs": [],
     "prompt_number": 94
    },
    {
     "cell_type": "code",
     "collapsed": false,
     "input": [
      "G=R.test_set_non_reducibles()"
     ],
     "language": "python",
     "metadata": {},
     "outputs": [],
     "prompt_number": 86
    },
    {
     "cell_type": "code",
     "collapsed": false,
     "input": [
      "len(G)"
     ],
     "language": "python",
     "metadata": {},
     "outputs": [
      {
       "metadata": {},
       "output_type": "pyout",
       "prompt_number": 95,
       "text": [
        "42"
       ]
      }
     ],
     "prompt_number": 95
    },
    {
     "cell_type": "code",
     "collapsed": false,
     "input": [],
     "language": "python",
     "metadata": {},
     "outputs": [],
     "prompt_number": 87
    },
    {
     "cell_type": "code",
     "collapsed": false,
     "input": [
      "#set_verbose(2)\n",
      "#M=R.minimal_test_set()"
     ],
     "language": "python",
     "metadata": {},
     "outputs": [],
     "prompt_number": 88
    },
    {
     "cell_type": "code",
     "collapsed": false,
     "input": [
      "#len(M)"
     ],
     "language": "python",
     "metadata": {},
     "outputs": [],
     "prompt_number": 89
    },
    {
     "cell_type": "code",
     "collapsed": false,
     "input": [
      "#3^(12)"
     ],
     "language": "python",
     "metadata": {},
     "outputs": [],
     "prompt_number": 90
    },
    {
     "cell_type": "code",
     "collapsed": false,
     "input": [
      "R.walk_to_best(vector(ZZ,columnas*[0]))\n"
     ],
     "language": "python",
     "metadata": {},
     "outputs": [
      {
       "ename": "AssertionError",
       "evalue": "",
       "output_type": "pyerr",
       "traceback": [
        "\u001b[0;31m---------------------------------------------------------------------------\u001b[0m",
        "\u001b[0;31mAssertionError\u001b[0m                            Traceback (most recent call last)",
        "\u001b[0;32m<ipython-input-96-46ed870d37ca>\u001b[0m in \u001b[0;36m<module>\u001b[0;34m()\u001b[0m\n\u001b[0;32m----> 1\u001b[0;31m \u001b[0mR\u001b[0m\u001b[0;34m.\u001b[0m\u001b[0mwalk_to_best\u001b[0m\u001b[0;34m(\u001b[0m\u001b[0mvector\u001b[0m\u001b[0;34m(\u001b[0m\u001b[0mZZ\u001b[0m\u001b[0;34m,\u001b[0m\u001b[0mcolumnas\u001b[0m\u001b[0;34m*\u001b[0m\u001b[0;34m[\u001b[0m\u001b[0mInteger\u001b[0m\u001b[0;34m(\u001b[0m\u001b[0;36m0\u001b[0m\u001b[0;34m)\u001b[0m\u001b[0;34m]\u001b[0m\u001b[0;34m)\u001b[0m\u001b[0;34m)\u001b[0m\u001b[0;34m\u001b[0m\u001b[0m\n\u001b[0m",
        "\u001b[0;32m/Users/soto/Documents/Maths/Papers/optmizacion/ipproblem.py\u001b[0m in \u001b[0;36mwalk_to_best\u001b[0;34m(self, s, path)\u001b[0m\n\u001b[1;32m    294\u001b[0m             \u001b[0mbest\u001b[0m\u001b[0;34m=\u001b[0m\u001b[0msorted\u001b[0m\u001b[0;34m(\u001b[0m\u001b[0mitertools\u001b[0m\u001b[0;34m.\u001b[0m\u001b[0mcompress\u001b[0m\u001b[0;34m(\u001b[0m\u001b[0mG\u001b[0m\u001b[0;34m,\u001b[0m\u001b[0mF\u001b[0m\u001b[0;34m)\u001b[0m\u001b[0;34m,\u001b[0m \u001b[0mcmp\u001b[0m\u001b[0;34m=\u001b[0m\u001b[0mself\u001b[0m\u001b[0;34m.\u001b[0m\u001b[0morder\u001b[0m\u001b[0;34m)\u001b[0m\u001b[0;34m[\u001b[0m\u001b[0;34m-\u001b[0m\u001b[0;36m1\u001b[0m\u001b[0;34m]\u001b[0m\u001b[0;34m\u001b[0m\u001b[0m\n\u001b[1;32m    295\u001b[0m             \u001b[0mverbose\u001b[0m\u001b[0;34m(\u001b[0m\u001b[0;34m\"best=%s\"\u001b[0m\u001b[0;34m%\u001b[0m\u001b[0mbest\u001b[0m\u001b[0;34m)\u001b[0m\u001b[0;34m\u001b[0m\u001b[0m\n\u001b[0;32m--> 296\u001b[0;31m             \u001b[0;32massert\u001b[0m\u001b[0;34m(\u001b[0m\u001b[0mself\u001b[0m\u001b[0;34m.\u001b[0m\u001b[0morder\u001b[0m\u001b[0;34m(\u001b[0m\u001b[0ms_0\u001b[0m\u001b[0;34m+\u001b[0m\u001b[0mbest\u001b[0m\u001b[0;34m,\u001b[0m\u001b[0ms_0\u001b[0m\u001b[0;34m)\u001b[0m\u001b[0;34m>=\u001b[0m\u001b[0;36m0\u001b[0m\u001b[0;34m)\u001b[0m\u001b[0;34m\u001b[0m\u001b[0m\n\u001b[0m\u001b[1;32m    297\u001b[0m             \u001b[0ms_0\u001b[0m\u001b[0;34m=\u001b[0m\u001b[0ms_0\u001b[0m\u001b[0;34m+\u001b[0m\u001b[0mbest\u001b[0m\u001b[0;34m\u001b[0m\u001b[0m\n\u001b[1;32m    298\u001b[0m             \u001b[0;32mif\u001b[0m \u001b[0mpath\u001b[0m\u001b[0;34m:\u001b[0m\u001b[0;34m\u001b[0m\u001b[0m\n",
        "\u001b[0;31mAssertionError\u001b[0m: "
       ]
      }
     ],
     "prompt_number": 96
    },
    {
     "cell_type": "code",
     "collapsed": false,
     "input": [
      "c"
     ],
     "language": "python",
     "metadata": {},
     "outputs": [
      {
       "metadata": {},
       "output_type": "pyout",
       "prompt_number": 233,
       "text": [
        "(10, 14, 18, 18, 15, 16, 19, 19, 16, 17, 10, 18, 17, 13, 10, 11, 11, 18, 13, 15, 16, 10, 11, 14)"
       ]
      }
     ],
     "prompt_number": 233
    },
    {
     "cell_type": "code",
     "collapsed": false,
     "input": [
      "\n",
      "A"
     ],
     "language": "python",
     "metadata": {},
     "outputs": [
      {
       "metadata": {},
       "output_type": "pyout",
       "prompt_number": 234,
       "text": [
        "[7 4 6 8 2 2 6 0 4 5 4 2 7 9 1 9 3 3 8 6 1 3 9 0]\n",
        "[0 5 7 3 9 5 7 0 1 1 7 9 1 7 2 3 5 0 1 5 7 0 5 6]\n",
        "[9 6 3 9 5 0 9 9 6 4 2 0 2 1 0 0 7 8 9 7 2 8 1 4]\n",
        "[1 9 0 9 8 0 1 6 8 6 3 5 7 3 2 2 5 4 9 3 0 4 2 1]"
       ]
      }
     ],
     "prompt_number": 234
    },
    {
     "cell_type": "code",
     "collapsed": false,
     "input": [
      "b"
     ],
     "language": "python",
     "metadata": {},
     "outputs": [
      {
       "metadata": {},
       "output_type": "pyout",
       "prompt_number": 235,
       "text": [
        "(8, 3, 8, 7)"
       ]
      }
     ],
     "prompt_number": 235
    },
    {
     "cell_type": "code",
     "collapsed": false,
     "input": [],
     "language": "python",
     "metadata": {},
     "outputs": []
    }
   ],
   "metadata": {}
  }
 ]
}