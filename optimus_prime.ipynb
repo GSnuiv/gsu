{
 "metadata": {
  "name": "",
  "signature": "sha256:3bb6033c43361f32965311f605bb050eb20b0c675253f8d5a58479b90ece3fe2"
 },
 "nbformat": 3,
 "nbformat_minor": 0,
 "worksheets": [
  {
   "cells": [
    {
     "cell_type": "markdown",
     "metadata": {},
     "source": [
      "# Algoritmos de U-W-Z para G-S-U.\n",
      "\n",
      "Esta hoja contiene los resultados de la implementaci\u00f3n de los algoritmos del art\u00edculo (Urbaniak, Weismantel, Ziegler 1997). De momento no pod\u00e9is ejecutarla, pero s\u00ed pod\u00e9is leerla, para ver el tipo de cosas que ya podemos calcular. \n",
      "\n",
      "El n\u00facleo de lo que he hecho es un programa en SAGE de unas 200 l\u00edneas. Cuando nos veamos despu\u00e9s de pascua, os dir\u00e9 c\u00f3mo ten\u00e9is que llamarlo desde SAGE.\n",
      "\n",
      "\n"
     ]
    },
    {
     "cell_type": "code",
     "collapsed": false,
     "input": [
      "#%load_ext sage"
     ],
     "language": "python",
     "metadata": {},
     "outputs": [],
     "prompt_number": 30
    },
    {
     "cell_type": "code",
     "collapsed": false,
     "input": [
      "%run ipproblem"
     ],
     "language": "python",
     "metadata": {},
     "outputs": [],
     "prompt_number": 57
    },
    {
     "cell_type": "code",
     "collapsed": false,
     "input": [],
     "language": "python",
     "metadata": {},
     "outputs": [],
     "prompt_number": 57
    },
    {
     "cell_type": "markdown",
     "metadata": {},
     "source": [
      "Un problema de IP se declara de la siguiente forma:"
     ]
    },
    {
     "cell_type": "code",
     "collapsed": false,
     "input": [],
     "language": "python",
     "metadata": {},
     "outputs": [],
     "prompt_number": 57
    },
    {
     "cell_type": "code",
     "collapsed": false,
     "input": [
      "P1=IPProblem(c=[1,2,1],\n",
      "            A=[[1,0,0],[0,0,1]], \n",
      "            b=[10,10] )"
     ],
     "language": "python",
     "metadata": {},
     "outputs": [],
     "prompt_number": 58
    },
    {
     "cell_type": "markdown",
     "metadata": {},
     "source": [
      "O bien, simplemente como"
     ]
    },
    {
     "cell_type": "code",
     "collapsed": false,
     "input": [
      "P1=IPProblem([1,2,1],\n",
      "            [[1,0,0],[0,0,1]], \n",
      "            [10,10] )"
     ],
     "language": "python",
     "metadata": {},
     "outputs": [],
     "prompt_number": 59
    },
    {
     "cell_type": "markdown",
     "metadata": {},
     "source": [
      "Para comprobar los datos que hemos metido, podemos \"imprimir\" el problema"
     ]
    },
    {
     "cell_type": "code",
     "collapsed": false,
     "input": [
      "print P1"
     ],
     "language": "python",
     "metadata": {},
     "outputs": [
      {
       "output_type": "stream",
       "stream": "stdout",
       "text": [
        "Integer programming problem\n",
        "    max\\{c.x : A x <= b,  0<=x<=u\\}\n",
        "with\n",
        "c=(1, 2, 1),\n",
        "A=\n",
        "[1 0 0]\n",
        "[0 0 1],\n",
        "b=(10, 10),\n",
        "u=(10, 0, 10).\n"
       ]
      }
     ],
     "prompt_number": 60
    },
    {
     "cell_type": "markdown",
     "metadata": {},
     "source": [
      "Algunas funciones \u00fatiles:\n",
      "\n",
      "* `is_feasible(v)` determina si el vector v es \u201cfeasible\u201d.\n",
      "* `order(v,w)` determina si los vectores est\u00e1n ordenados para el orden $\\prec_c$  del art\u00edculo\n",
      "* `pm_split(v)` devuelve un par de vectores, correspondientes a $v^+$ y $v^-$ del art\u00edculo.\n",
      "* `succ(v)` devuelve el vector $v^\\prec$ del art\u00edculo\n",
      "\n",
      "Hay m\u00e1s funciones, pero no voy a dar ejemplos de todas. "
     ]
    },
    {
     "cell_type": "code",
     "collapsed": false,
     "input": [
      "P1.is_feasible(vector(ZZ,[0,0,0]))"
     ],
     "language": "python",
     "metadata": {},
     "outputs": [
      {
       "metadata": {},
       "output_type": "pyout",
       "prompt_number": 61,
       "text": [
        "True"
       ]
      }
     ],
     "prompt_number": 61
    },
    {
     "cell_type": "code",
     "collapsed": false,
     "input": [
      "P1.order(vector(ZZ,[0,2,0]),vector(ZZ,[13,0,1]))"
     ],
     "language": "python",
     "metadata": {},
     "outputs": [
      {
       "metadata": {},
       "output_type": "pyout",
       "prompt_number": 62,
       "text": [
        "-1"
       ]
      }
     ],
     "prompt_number": 62
    },
    {
     "cell_type": "markdown",
     "metadata": {},
     "source": [
      "Para las comprobaciones, uso el IP del Ejemplo 2.3 del art\u00edculo"
     ]
    },
    {
     "cell_type": "code",
     "collapsed": false,
     "input": [
      "P=IPProblem(c=[1,3,2], A=[[1,2,3]], b=[3], u=[1,1,1])\n",
      "print P"
     ],
     "language": "python",
     "metadata": {},
     "outputs": [
      {
       "output_type": "stream",
       "stream": "stdout",
       "text": [
        "Integer programming problem\n",
        "    max\\{c.x : A x <= b,  0<=x<=u\\}\n",
        "with\n",
        "c=(1, 3, 2),\n",
        "A=\n",
        "[1 2 3],\n",
        "b=(3),\n",
        "u=(1, 1, 1).\n"
       ]
      }
     ],
     "prompt_number": 63
    },
    {
     "cell_type": "markdown",
     "metadata": {},
     "source": [
      "C\u00e1lculo de un test set, simple y llan0; lo hago para los dos problemas que hemos definido, `P1` y `P`.  `test_set` usa el algoritmo 2.1"
     ]
    },
    {
     "cell_type": "code",
     "collapsed": false,
     "input": [
      "set_verbose(0)\n",
      "P.test_set()"
     ],
     "language": "python",
     "metadata": {},
     "outputs": [
      {
       "metadata": {},
       "output_type": "pyout",
       "prompt_number": 64,
       "text": [
        "[(1, 0, 0),\n",
        " (0, 1, 0),\n",
        " (0, 0, 1),\n",
        " (-1, 1, 0),\n",
        " (-1, 0, 1),\n",
        " (0, 1, -1),\n",
        " (1, 1, -1)]"
       ]
      }
     ],
     "prompt_number": 64
    },
    {
     "cell_type": "code",
     "collapsed": false,
     "input": [
      "T=P1.test_set()\n",
      "T"
     ],
     "language": "python",
     "metadata": {},
     "outputs": [
      {
       "metadata": {},
       "output_type": "pyout",
       "prompt_number": 65,
       "text": [
        "[(1, 0, 0),\n",
        " (0, 0, 1),\n",
        " (1, 0, -1),\n",
        " (-1, 0, 2),\n",
        " (2, 0, -2),\n",
        " (-2, 0, 3),\n",
        " (-3, 0, 4),\n",
        " (3, 0, -3),\n",
        " (-4, 0, 5),\n",
        " (4, 0, -4),\n",
        " (-5, 0, 6),\n",
        " (-6, 0, 7),\n",
        " (5, 0, -5),\n",
        " (-7, 0, 8),\n",
        " (-8, 0, 9),\n",
        " (6, 0, -6),\n",
        " (-9, 0, 10),\n",
        " (7, 0, -7),\n",
        " (8, 0, -8),\n",
        " (9, 0, -9),\n",
        " (10, 0, -10)]"
       ]
      }
     ],
     "prompt_number": 65
    },
    {
     "cell_type": "markdown",
     "metadata": {},
     "source": [
      "Como se puede ver, sobran vectores. Hay que definir varias funciones de reducci\u00f3n, pero no me entretengo. S\u00f3lo un ejemplo:"
     ]
    },
    {
     "cell_type": "code",
     "collapsed": false,
     "input": [
      "P1.can_reduce_by(v=vector(ZZ, [1,0,-1]), w=vector([10,0,-10]))"
     ],
     "language": "python",
     "metadata": {},
     "outputs": [
      {
       "metadata": {},
       "output_type": "pyout",
       "prompt_number": 66,
       "text": [
        "10"
       ]
      }
     ],
     "prompt_number": 66
    },
    {
     "cell_type": "markdown",
     "metadata": {},
     "source": [
      "Ahora podemos reducir el test set que hemos encontrado."
     ]
    },
    {
     "cell_type": "code",
     "collapsed": false,
     "input": [
      "set_verbose(0) # or 2\n",
      "P1.inter_reduce(T)"
     ],
     "language": "python",
     "metadata": {},
     "outputs": [
      {
       "metadata": {},
       "output_type": "pyout",
       "prompt_number": 67,
       "text": [
        "[(1, 0, 0), (0, 0, 1)]"
       ]
      }
     ],
     "prompt_number": 67
    },
    {
     "cell_type": "code",
     "collapsed": false,
     "input": [],
     "language": "python",
     "metadata": {},
     "outputs": [],
     "prompt_number": 67
    },
    {
     "cell_type": "code",
     "collapsed": false,
     "input": [],
     "language": "python",
     "metadata": {},
     "outputs": [],
     "prompt_number": 67
    },
    {
     "cell_type": "markdown",
     "metadata": {},
     "source": [
      "La funci\u00f3n `minimal_test_set` es una implementaci\u00f3n del algoritmo 2.7. Devuelve el \u00fanico test-set minimal."
     ]
    },
    {
     "cell_type": "code",
     "collapsed": false,
     "input": [
      "P.minimal_test_set()"
     ],
     "language": "python",
     "metadata": {},
     "outputs": [
      {
       "metadata": {},
       "output_type": "pyout",
       "prompt_number": 68,
       "text": [
        "[(1, 0, 0), (0, 1, 0), (0, 0, 1), (-1, 1, 0), (-1, 0, 1), (0, 1, -1)]"
       ]
      }
     ],
     "prompt_number": 68
    },
    {
     "cell_type": "code",
     "collapsed": false,
     "input": [
      "P1.minimal_test_set()"
     ],
     "language": "python",
     "metadata": {},
     "outputs": [
      {
       "metadata": {},
       "output_type": "pyout",
       "prompt_number": 69,
       "text": [
        "[(1, 0, 0), (0, 0, 1)]"
       ]
      }
     ],
     "prompt_number": 69
    },
    {
     "cell_type": "markdown",
     "metadata": {},
     "source": [
      "Por \u00faltimo, `reduced_test_set` primero calcula un test set, sin reducir, y luego aplica reducci\u00f3n. Debe dar lo mismo que antes; el \u00fanico test-set minimal."
     ]
    },
    {
     "cell_type": "code",
     "collapsed": false,
     "input": [
      "set_verbose(0)\n",
      "P.reduced_test_set()"
     ],
     "language": "python",
     "metadata": {},
     "outputs": [
      {
       "metadata": {},
       "output_type": "pyout",
       "prompt_number": 70,
       "text": [
        "[(1, 0, 0), (0, 1, 0), (0, 0, 1), (-1, 1, 0), (-1, 0, 1), (0, 1, -1)]"
       ]
      }
     ],
     "prompt_number": 70
    },
    {
     "cell_type": "code",
     "collapsed": false,
     "input": [
      "P1.reduced_test_set()"
     ],
     "language": "python",
     "metadata": {},
     "outputs": [
      {
       "metadata": {},
       "output_type": "pyout",
       "prompt_number": 71,
       "text": [
        "[(1, 0, 0), (0, 0, 1)]"
       ]
      }
     ],
     "prompt_number": 71
    },
    {
     "cell_type": "markdown",
     "metadata": {},
     "source": [
      "Algoritmo 2.10. Mejor que el Grobner simple, pero no necesariamente reducido."
     ]
    },
    {
     "cell_type": "code",
     "collapsed": false,
     "input": [
      "set_verbose(0)\n",
      "P1.test_set_non_reducibles()"
     ],
     "language": "python",
     "metadata": {},
     "outputs": [
      {
       "metadata": {},
       "output_type": "pyout",
       "prompt_number": 72,
       "text": [
        "[(1, 0, 0),\n",
        " (0, 0, 1),\n",
        " (1, 0, -1),\n",
        " (-1, 0, 2),\n",
        " (2, 0, -2),\n",
        " (-2, 0, 3),\n",
        " (3, 0, -3),\n",
        " (-3, 0, 4),\n",
        " (4, 0, -4),\n",
        " (-4, 0, 5),\n",
        " (5, 0, -5),\n",
        " (-5, 0, 6),\n",
        " (6, 0, -6),\n",
        " (-6, 0, 7),\n",
        " (7, 0, -7),\n",
        " (-7, 0, 8),\n",
        " (8, 0, -8),\n",
        " (-8, 0, 9),\n",
        " (9, 0, -9),\n",
        " (-9, 0, 10),\n",
        " (10, 0, -10)]"
       ]
      }
     ],
     "prompt_number": 72
    },
    {
     "cell_type": "code",
     "collapsed": false,
     "input": [
      "P.test_set_non_reducibles()"
     ],
     "language": "python",
     "metadata": {},
     "outputs": [
      {
       "metadata": {},
       "output_type": "pyout",
       "prompt_number": 73,
       "text": [
        "[(1, 0, 0), (0, 1, 0), (0, 0, 1), (-1, 1, 0), (-1, 0, 1), (0, 1, -1)]"
       ]
      }
     ],
     "prompt_number": 73
    },
    {
     "cell_type": "markdown",
     "metadata": {},
     "source": [
      "Anulo los c\u00f3mputos de tiempo hasta que se estabilicen los algoritmos."
     ]
    },
    {
     "cell_type": "code",
     "collapsed": false,
     "input": [
      "#%timeit -n100 P.groebner_simple()"
     ],
     "language": "python",
     "metadata": {},
     "outputs": [],
     "prompt_number": 74
    },
    {
     "cell_type": "code",
     "collapsed": false,
     "input": [
      "#%timeit -n100 P.groebner_with_reduction()"
     ],
     "language": "python",
     "metadata": {},
     "outputs": [],
     "prompt_number": 75
    },
    {
     "cell_type": "code",
     "collapsed": false,
     "input": [
      "#%timeit -n100 P.groebner_reduced()"
     ],
     "language": "python",
     "metadata": {},
     "outputs": [],
     "prompt_number": 76
    },
    {
     "cell_type": "code",
     "collapsed": false,
     "input": [
      "#%timeit -n100 P.groebner_non_reducibles()"
     ],
     "language": "python",
     "metadata": {},
     "outputs": [],
     "prompt_number": 77
    },
    {
     "cell_type": "markdown",
     "metadata": {},
     "source": [
      "C\u00e1lculo del \u00f3ptimo a partir de un factible. Siempre se usa el test set minimal.\n"
     ]
    },
    {
     "cell_type": "code",
     "collapsed": false,
     "input": [
      "%run ipproblem\n",
      "P=IPProblem(c=[1,3,2], A=[[1,2,3]], b=[3], u=[1,1,1])\n",
      "set_verbose(0)\n",
      "P.walk_to_best([0,0,0])\n"
     ],
     "language": "python",
     "metadata": {},
     "outputs": [
      {
       "metadata": {},
       "output_type": "pyout",
       "prompt_number": 78,
       "text": [
        "(1, 1, 0)"
       ]
      }
     ],
     "prompt_number": 78
    },
    {
     "cell_type": "markdown",
     "metadata": {},
     "source": [
      "Tambi\u00e9n podemos pedir el camino completo desde el inicial al final."
     ]
    },
    {
     "cell_type": "code",
     "collapsed": false,
     "input": [
      "P.walk_to_best([0,0,0], path=True)"
     ],
     "language": "python",
     "metadata": {},
     "outputs": [
      {
       "metadata": {},
       "output_type": "pyout",
       "prompt_number": 79,
       "text": [
        "[(0, 0, 0), (0, 1, 0), (1, 1, 0)]"
       ]
      }
     ],
     "prompt_number": 79
    },
    {
     "cell_type": "code",
     "collapsed": false,
     "input": [
      "P.walk_to_best([0,0,1])"
     ],
     "language": "python",
     "metadata": {},
     "outputs": [
      {
       "metadata": {},
       "output_type": "pyout",
       "prompt_number": 80,
       "text": [
        "(1, 1, 0)"
       ]
      }
     ],
     "prompt_number": 80
    },
    {
     "cell_type": "code",
     "collapsed": false,
     "input": [
      "P.walk_to_best([10,10,10]) #\u00a0not feasible"
     ],
     "language": "python",
     "metadata": {},
     "outputs": [
      {
       "metadata": {},
       "output_type": "pyout",
       "prompt_number": 81,
       "text": [
        "False"
       ]
      }
     ],
     "prompt_number": 81
    },
    {
     "cell_type": "code",
     "collapsed": false,
     "input": [
      "P1.walk_to_best([0,0,0], path=True)"
     ],
     "language": "python",
     "metadata": {},
     "outputs": [
      {
       "metadata": {},
       "output_type": "pyout",
       "prompt_number": 82,
       "text": [
        "[(0, 0, 0),\n",
        " (1, 0, 0),\n",
        " (2, 0, 0),\n",
        " (3, 0, 0),\n",
        " (4, 0, 0),\n",
        " (5, 0, 0),\n",
        " (6, 0, 0),\n",
        " (7, 0, 0),\n",
        " (8, 0, 0),\n",
        " (9, 0, 0),\n",
        " (10, 0, 0),\n",
        " (10, 0, 1),\n",
        " (10, 0, 2),\n",
        " (10, 0, 3),\n",
        " (10, 0, 4),\n",
        " (10, 0, 5),\n",
        " (10, 0, 6),\n",
        " (10, 0, 7),\n",
        " (10, 0, 8),\n",
        " (10, 0, 9),\n",
        " (10, 0, 10)]"
       ]
      }
     ],
     "prompt_number": 82
    },
    {
     "cell_type": "code",
     "collapsed": false,
     "input": [],
     "language": "python",
     "metadata": {},
     "outputs": [],
     "prompt_number": 51
    },
    {
     "cell_type": "code",
     "collapsed": false,
     "input": [],
     "language": "python",
     "metadata": {},
     "outputs": []
    }
   ],
   "metadata": {}
  }
 ]
}